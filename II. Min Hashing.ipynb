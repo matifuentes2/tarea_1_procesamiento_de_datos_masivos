{
 "cells": [
  {
   "attachments": {},
   "cell_type": "markdown",
   "metadata": {},
   "source": [
    "# II. Min hashing"
   ]
  },
  {
   "cell_type": "code",
   "execution_count": 1,
   "metadata": {},
   "outputs": [],
   "source": [
    "import pandas as pd\n",
    "import numpy as np\n",
    "import collections\n",
    "import itertools\n",
    "import random\n",
    "from tqdm import tqdm\n",
    "from math import floor, sqrt\n",
    "import ast"
   ]
  },
  {
   "attachments": {},
   "cell_type": "markdown",
   "metadata": {},
   "source": [
    "Cargar datos preprocesados"
   ]
  },
  {
   "cell_type": "code",
   "execution_count": 4,
   "metadata": {},
   "outputs": [],
   "source": [
    "resumen = pd.read_csv('preprocesado.csv', converters={\"shingles\": ast.literal_eval})"
   ]
  },
  {
   "attachments": {},
   "cell_type": "markdown",
   "metadata": {},
   "source": [
    "Cargar vocabulario de shingles previamente computado y mostrar su largo"
   ]
  },
  {
   "cell_type": "code",
   "execution_count": 5,
   "metadata": {},
   "outputs": [
    {
     "data": {
      "text/plain": [
       "9958"
      ]
     },
     "execution_count": 5,
     "metadata": {},
     "output_type": "execute_result"
    }
   ],
   "source": [
    "with open('shingles_sample.txt','r') as f:\n",
    "   shingles_sample = ast.literal_eval(f.read())\n",
    "un = shingles_sample\n",
    "len(un)"
   ]
  },
  {
   "attachments": {},
   "cell_type": "markdown",
   "metadata": {},
   "source": [
    "## Crear funciones de hash"
   ]
  },
  {
   "attachments": {},
   "cell_type": "markdown",
   "metadata": {},
   "source": [
    "Primero hallamos un número primo más grande que el universo de shingles"
   ]
  },
  {
   "cell_type": "code",
   "execution_count": 7,
   "metadata": {},
   "outputs": [
    {
     "name": "stdout",
     "output_type": "stream",
     "text": [
      "Primo encontrado:  9967\n"
     ]
    }
   ],
   "source": [
    "\n",
    "def is_prime(n):\n",
    "  for i in range(2,int(sqrt(n))+1):\n",
    "    if (n%i) == 0:\n",
    "      return False\n",
    "  return True\n",
    "\n",
    "numb = len(un)+1\n",
    "while True:\n",
    "    result = is_prime(numb)\n",
    "    if result:\n",
    "       break\n",
    "    numb+=1\n",
    "print(\"Primo encontrado: \", numb)"
   ]
  },
  {
   "attachments": {},
   "cell_type": "markdown",
   "metadata": {},
   "source": [
    "Creamos 20 funciones de hash, usando un método tomado de material de clases"
   ]
  },
  {
   "cell_type": "code",
   "execution_count": 8,
   "metadata": {},
   "outputs": [],
   "source": [
    "def crear_hash(a, b, p, n):\n",
    "    def f(x):\n",
    "        return ((a * x + b) % p) % n\n",
    "    return f\n",
    "h = []\n",
    "n = len(un)\n",
    "p = numb\n",
    "num_hash = 20\n",
    "for i in range(num_hash):\n",
    "    a = random.randint(1,p-1)\n",
    "    b = random.randint(1,p-1)\n",
    "    h.append(crear_hash(a,b,p,n))"
   ]
  },
  {
   "attachments": {},
   "cell_type": "markdown",
   "metadata": {},
   "source": [
    "## Firma de Hash"
   ]
  },
  {
   "attachments": {},
   "cell_type": "markdown",
   "metadata": {},
   "source": [
    "Calcularemos la firma de hash dividiendo el resumen en 10 chunks."
   ]
  },
  {
   "cell_type": "code",
   "execution_count": 2,
   "metadata": {},
   "outputs": [
    {
     "ename": "NameError",
     "evalue": "name 'un' is not defined",
     "output_type": "error",
     "traceback": [
      "\u001b[0;31m---------------------------------------------------------------------------\u001b[0m",
      "\u001b[0;31mNameError\u001b[0m                                 Traceback (most recent call last)",
      "Cell \u001b[0;32mIn[2], line 1\u001b[0m\n\u001b[0;32m----> 1\u001b[0m sorted_union \u001b[39m=\u001b[39m \u001b[39msorted\u001b[39m(un)\n\u001b[1;32m      2\u001b[0m \u001b[39mdef\u001b[39;00m \u001b[39mchunk_signature\u001b[39m(chunk):\n\u001b[1;32m      3\u001b[0m     n \u001b[39m=\u001b[39m \u001b[39mlen\u001b[39m(chunk)\n",
      "\u001b[0;31mNameError\u001b[0m: name 'un' is not defined"
     ]
    }
   ],
   "source": [
    "sorted_union = sorted(un)\n",
    "def chunk_signature(chunk):\n",
    "    n = len(chunk)\n",
    "    FH = np.full((num_hash, n), n+100)\n",
    "    ### Iterar por elementos del vocabulario\n",
    "    for e in tqdm(range(0,len(sorted_union))): # |union_shingles| = 9967\n",
    "       \n",
    "        ### iteramos cada columna, correspondiente a la cantidad de textos (tweets en nuestro caso)  \n",
    "        for i in range(0,n): # |cols| = 208.139\n",
    "\n",
    "            ### si el elemento e no está en el texto i, no hacemos nada\n",
    "            if sorted_union[e] not in chunk.shingles[i]:\n",
    "                pass\n",
    "            \n",
    "            ### si el elemento si está, computamos los valores de h(e) y \n",
    "            else:\n",
    "                for j in range(0,num_hash): # j es función de hash |hash| = 20, filas de la matriz\n",
    "                    FH[j][i] = min(FH[j][i],h[j](e))\n",
    "    return FH"
   ]
  },
  {
   "attachments": {},
   "cell_type": "markdown",
   "metadata": {},
   "source": [
    "Calcular la firma de hash de cada chunk e ir escribiendo a disco"
   ]
  },
  {
   "cell_type": "code",
   "execution_count": 11,
   "metadata": {},
   "outputs": [],
   "source": [
    "n_of_chunks = 10\n",
    "chunk_size = floor(len(resumen)/n_of_chunks)\n",
    "chunk = resumen.iloc[:chunk_size,:]\n",
    "FH = chunk_signature(chunk)\n",
    "np.savetxt(\"fhs/file0.csv\", FH, delimiter=\",\")\n",
    "del FH\n",
    "for i in tqdm(range(1, n_of_chunks)):\n",
    "    if i != (n_of_chunks-1):\n",
    "        chunk = resumen.iloc[chunk_size*i:chunk_size*(i+1),:]\n",
    "    else:\n",
    "        chunk = resumen.iloc[chunk_size*i:,:]\n",
    "    chunk = chunk.reset_index()\n",
    "    FH = chunk_signature(chunk)\n",
    "    np.savetxt(f\"fhs/file{i}.csv\", FH, delimiter=\",\")\n",
    "    del FH"
   ]
  }
 ],
 "metadata": {
  "kernelspec": {
   "display_name": "tareas_proce",
   "language": "python",
   "name": "python3"
  },
  "language_info": {
   "codemirror_mode": {
    "name": "ipython",
    "version": 3
   },
   "file_extension": ".py",
   "mimetype": "text/x-python",
   "name": "python",
   "nbconvert_exporter": "python",
   "pygments_lexer": "ipython3",
   "version": "3.10.0"
  },
  "orig_nbformat": 4
 },
 "nbformat": 4,
 "nbformat_minor": 2
}
