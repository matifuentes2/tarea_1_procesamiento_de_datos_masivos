{
 "cells": [
  {
   "attachments": {},
   "cell_type": "markdown",
   "metadata": {},
   "source": [
    "# III. Pares candidatos y Autores similares"
   ]
  },
  {
   "attachments": {},
   "cell_type": "markdown",
   "metadata": {},
   "source": [
    "En esta parte idetificaremos pares candidatos de tweets y aplicaremos thresholding para definir autores similares."
   ]
  },
  {
   "cell_type": "code",
   "execution_count": 2,
   "metadata": {},
   "outputs": [],
   "source": [
    "import numpy as np\n",
    "import pandas as pd\n",
    "import collections\n",
    "import itertools\n",
    "import ast\n",
    "import random"
   ]
  },
  {
   "attachments": {},
   "cell_type": "markdown",
   "metadata": {},
   "source": [
    "### Importar Trabajo previo"
   ]
  },
  {
   "cell_type": "code",
   "execution_count": 3,
   "metadata": {},
   "outputs": [],
   "source": [
    "resumen = pd.read_csv('preprocesado.csv', converters={\"shingles\": ast.literal_eval})"
   ]
  },
  {
   "attachments": {},
   "cell_type": "markdown",
   "metadata": {},
   "source": [
    "Consolidar FHs a partir de los archivos guardados en disco."
   ]
  },
  {
   "cell_type": "code",
   "execution_count": 4,
   "metadata": {},
   "outputs": [
    {
     "data": {
      "text/plain": [
       "(20, 203726)"
      ]
     },
     "execution_count": 4,
     "metadata": {},
     "output_type": "execute_result"
    }
   ],
   "source": [
    "FH = np.genfromtxt('fhs/file0.csv', delimiter=',')\n",
    "for i in range(1, 10):\n",
    "    FH2 = np.genfromtxt(f'fhs/file{i}.csv', delimiter=',')\n",
    "    FH = np.concatenate((FH, FH2), axis=1)\n",
    "FH.shape"
   ]
  },
  {
   "attachments": {},
   "cell_type": "markdown",
   "metadata": {},
   "source": [
    "## Banding"
   ]
  },
  {
   "attachments": {},
   "cell_type": "markdown",
   "metadata": {},
   "source": [
    "Mostrar distancia mínima a la que debe estar dos tweet para ser considerados pares candidatos"
   ]
  },
  {
   "cell_type": "code",
   "execution_count": 5,
   "metadata": {},
   "outputs": [
    {
     "data": {
      "text/plain": [
       "0.758"
      ]
     },
     "execution_count": 5,
     "metadata": {},
     "output_type": "execute_result"
    }
   ],
   "source": [
    "r = 5\n",
    "b = 4\n",
    "round((1/b)**(1/r), 3)"
   ]
  },
  {
   "attachments": {},
   "cell_type": "markdown",
   "metadata": {},
   "source": [
    "Ejecutar banding y obtener pares candidatos"
   ]
  },
  {
   "cell_type": "code",
   "execution_count": 6,
   "metadata": {},
   "outputs": [
    {
     "name": "stdout",
     "output_type": "stream",
     "text": [
      "Obtuvimos 2235158 pares candidatos, con b = 4 y r = 5\n"
     ]
    }
   ],
   "source": [
    "# https://towardsdatascience.com/locality-sensitive-hashing-how-to-find-similar-items-in-a-large-set-with-precision-d907c52b05fc\n",
    "sig_mat = FH\n",
    "n, d = sig_mat.shape\n",
    "hashbuckets = collections.defaultdict(set)\n",
    "bands = np.array_split(sig_mat, b, axis=0)\n",
    "for i,band in enumerate(bands):\n",
    "    for j in range(d):\n",
    "        # The last value must be made a string, to prevent accidental\n",
    "        # key collisions of r+1 integers when we really only want\n",
    "        # keys of r integers plus a band index\n",
    "        band_id = tuple(list(band[:,j])+[str(i)])\n",
    "        hashbuckets[band_id].add(j)\n",
    "candidate_pairs = set()\n",
    "for bucket in hashbuckets.values():\n",
    "    if len(bucket) > 1:\n",
    "        for pair in itertools.combinations(bucket, 2):\n",
    "            candidate_pairs.add(pair)\n",
    "print(f\"Obtuvimos {len(candidate_pairs)} pares candidatos, con b = {b} y r = {r}\")"
   ]
  },
  {
   "attachments": {},
   "cell_type": "markdown",
   "metadata": {},
   "source": [
    "## Limpiar pares de candidatos"
   ]
  },
  {
   "attachments": {},
   "cell_type": "markdown",
   "metadata": {},
   "source": [
    "Quitar tweets idénticos de los pares similares"
   ]
  },
  {
   "cell_type": "code",
   "execution_count": 7,
   "metadata": {},
   "outputs": [
    {
     "name": "stdout",
     "output_type": "stream",
     "text": [
      "Quedan 1035758 pares candidatos\n"
     ]
    }
   ],
   "source": [
    "trimmed_cadidate_pairs = []\n",
    "for pair in candidate_pairs:\n",
    "        a, b = pair\n",
    "        text_a = resumen.text[a]\n",
    "        text_b = resumen.text[b]\n",
    "        if (text_a != text_b) and ('http' not in text_a) and ('http' not in text_b):\n",
    "                trimmed_cadidate_pairs.append((a, b))\n",
    "print(f\"Quedan {len(trimmed_cadidate_pairs)} pares candidatos\")"
   ]
  },
  {
   "attachments": {},
   "cell_type": "markdown",
   "metadata": {},
   "source": [
    "Mostrar 3 pares de tweets presuntamente similares"
   ]
  },
  {
   "cell_type": "code",
   "execution_count": 8,
   "metadata": {},
   "outputs": [
    {
     "name": "stdout",
     "output_type": "stream",
     "text": [
      "1. Vicente22937071:  @gdominguez_ @MEQChile @ElisaLoncon @Jaime_Bassa @NoNeutrales @convencioncl #Rechazolacasacomunista\n",
      "2. Indigente_pro:  @jaran_13 @gdominguez_ @MEQChile @ElisaLoncon @Jaime_Bassa @convencioncl pobre weon pasao a caca que quiere puros derechos el aweonao\n",
      "----------\n",
      "1. jorgevamaceda73:  @Skywalk09577817 @danielstingo En estos momentos, la mejor arma ofertas para #Rechazar.\n",
      "2. albert_1917:  @Pasuchi2010 @danielstingo Estos wns tienen del día que les pidan #RechazoPopular\n",
      "----------\n",
      "1. Dpm_Chile2020:  No ➕ CORRUPCIÓN\n",
      "#NuevaConstituciónParaChile #AprueboDeSalida #Apruebo4deSeptiembre\n",
      "2. barryalva:  @berfontaine El apruebo le va a volar la raja al rechazo. #AprueboDeSalida #Apruebo4deSeptiembre #AprueboNuevaConstitucion\n",
      "----------\n"
     ]
    }
   ],
   "source": [
    "for pair in random.sample(list(trimmed_cadidate_pairs), 3):\n",
    "    a, b = pair\n",
    "    print(f\"1. {resumen.screen_name[a]}: \",resumen.text[a])\n",
    "    print(f\"2. {resumen.screen_name[b]}: \",resumen.text[b])\n",
    "    print(\"----------\")"
   ]
  },
  {
   "attachments": {},
   "cell_type": "markdown",
   "metadata": {},
   "source": [
    "## Identificar autores similares"
   ]
  },
  {
   "attachments": {},
   "cell_type": "markdown",
   "metadata": {},
   "source": [
    "Contar cuantos tweets similares hay para cada par de autores considerados candidatos similares"
   ]
  },
  {
   "cell_type": "code",
   "execution_count": 25,
   "metadata": {},
   "outputs": [],
   "source": [
    "count_dict = dict()\n",
    "\n",
    "def def_value():\n",
    "    return 0\n",
    "for pair in trimmed_cadidate_pairs:\n",
    "    a, b = pair\n",
    "    user_a = resumen.screen_name[a]\n",
    "    user_b = resumen.screen_name[b]\n",
    "    if user_a != user_b:\n",
    "        try:\n",
    "            count_dict[user_a][user_b] += 1\n",
    "        except KeyError:\n",
    "            count_dict[user_a] = collections.defaultdict(def_value) # No retorna key error\n",
    "            count_dict[user_a][user_b] += 1\n",
    "            \n",
    "        try:\n",
    "            count_dict[user_b][user_a] += 1\n",
    "        except KeyError:\n",
    "            count_dict[user_b] = collections.defaultdict(def_value) # No retorna key error\n",
    "            count_dict[user_b][user_a] += 1\n",
    "            "
   ]
  },
  {
   "attachments": {},
   "cell_type": "markdown",
   "metadata": {},
   "source": [
    "Mostrar solo los autores que están por sobre un threshold de tweets similares"
   ]
  },
  {
   "cell_type": "code",
   "execution_count": 52,
   "metadata": {},
   "outputs": [
    {
     "data": {
      "text/html": [
       "<div>\n",
       "<style scoped>\n",
       "    .dataframe tbody tr th:only-of-type {\n",
       "        vertical-align: middle;\n",
       "    }\n",
       "\n",
       "    .dataframe tbody tr th {\n",
       "        vertical-align: top;\n",
       "    }\n",
       "\n",
       "    .dataframe thead th {\n",
       "        text-align: right;\n",
       "    }\n",
       "</style>\n",
       "<table border=\"1\" class=\"dataframe\">\n",
       "  <thead>\n",
       "    <tr style=\"text-align: right;\">\n",
       "      <th></th>\n",
       "      <th>user_1</th>\n",
       "      <th>user_2</th>\n",
       "      <th>sim_tweet_count</th>\n",
       "    </tr>\n",
       "  </thead>\n",
       "  <tbody>\n",
       "    <tr>\n",
       "      <th>4488906</th>\n",
       "      <td>janelg88</td>\n",
       "      <td>Daniela_Platz</td>\n",
       "      <td>1850.0</td>\n",
       "    </tr>\n",
       "    <tr>\n",
       "      <th>4493799</th>\n",
       "      <td>Daniela_Platz</td>\n",
       "      <td>janelg88</td>\n",
       "      <td>1850.0</td>\n",
       "    </tr>\n",
       "    <tr>\n",
       "      <th>560181</th>\n",
       "      <td>x1educalidad</td>\n",
       "      <td>MEugeniaDiazJ</td>\n",
       "      <td>1478.0</td>\n",
       "    </tr>\n",
       "    <tr>\n",
       "      <th>637851</th>\n",
       "      <td>MEugeniaDiazJ</td>\n",
       "      <td>x1educalidad</td>\n",
       "      <td>1478.0</td>\n",
       "    </tr>\n",
       "    <tr>\n",
       "      <th>8289185</th>\n",
       "      <td>RomilioValenzu4</td>\n",
       "      <td>osotroncoso</td>\n",
       "      <td>944.0</td>\n",
       "    </tr>\n",
       "    <tr>\n",
       "      <th>...</th>\n",
       "      <td>...</td>\n",
       "      <td>...</td>\n",
       "      <td>...</td>\n",
       "    </tr>\n",
       "    <tr>\n",
       "      <th>10221077</th>\n",
       "      <td>RomilioValenzu4</td>\n",
       "      <td>caseoievski</td>\n",
       "      <td>105.0</td>\n",
       "    </tr>\n",
       "    <tr>\n",
       "      <th>1193136</th>\n",
       "      <td>gatitafuriosa4</td>\n",
       "      <td>RomilioValenzu4</td>\n",
       "      <td>103.0</td>\n",
       "    </tr>\n",
       "    <tr>\n",
       "      <th>17482661</th>\n",
       "      <td>RomilioValenzu4</td>\n",
       "      <td>gatitafuriosa4</td>\n",
       "      <td>103.0</td>\n",
       "    </tr>\n",
       "    <tr>\n",
       "      <th>1370500</th>\n",
       "      <td>MAJOCAPA196556</td>\n",
       "      <td>Natacha55538315</td>\n",
       "      <td>101.0</td>\n",
       "    </tr>\n",
       "    <tr>\n",
       "      <th>1938327</th>\n",
       "      <td>Natacha55538315</td>\n",
       "      <td>MAJOCAPA196556</td>\n",
       "      <td>101.0</td>\n",
       "    </tr>\n",
       "  </tbody>\n",
       "</table>\n",
       "<p>114 rows × 3 columns</p>\n",
       "</div>"
      ],
      "text/plain": [
       "                   user_1           user_2  sim_tweet_count\n",
       "4488906          janelg88    Daniela_Platz           1850.0\n",
       "4493799     Daniela_Platz         janelg88           1850.0\n",
       "560181       x1educalidad    MEugeniaDiazJ           1478.0\n",
       "637851      MEugeniaDiazJ     x1educalidad           1478.0\n",
       "8289185   RomilioValenzu4      osotroncoso            944.0\n",
       "...                   ...              ...              ...\n",
       "10221077  RomilioValenzu4      caseoievski            105.0\n",
       "1193136    gatitafuriosa4  RomilioValenzu4            103.0\n",
       "17482661  RomilioValenzu4   gatitafuriosa4            103.0\n",
       "1370500    MAJOCAPA196556  Natacha55538315            101.0\n",
       "1938327   Natacha55538315   MAJOCAPA196556            101.0\n",
       "\n",
       "[114 rows x 3 columns]"
      ]
     },
     "execution_count": 52,
     "metadata": {},
     "output_type": "execute_result"
    }
   ],
   "source": [
    "count_df = pd.DataFrame(count_dict).reset_index()\n",
    "count_long = pd.melt(count_df, id_vars='index')\n",
    "similar_authors = count_long[count_long.value >= 100].rename({'index': 'user_1', 'variable': 'user_2', 'value':'sim_tweet_count'}, axis = 1)\n",
    "similar_authors.sort_values(\"sim_tweet_count\", ascending=False)"
   ]
  },
  {
   "attachments": {},
   "cell_type": "markdown",
   "metadata": {},
   "source": [
    "Función para imprimir tweets de dos candidatos pares:"
   ]
  },
  {
   "cell_type": "code",
   "execution_count": 47,
   "metadata": {},
   "outputs": [],
   "source": [
    "def show_tweets_from_candidates(user_1, user_2, amount):\n",
    "    iterations = 0\n",
    "    for pair in trimmed_cadidate_pairs:\n",
    "        a, b = pair\n",
    "        user_a = resumen.screen_name[a]\n",
    "        user_b = resumen.screen_name[b]\n",
    "        if ((user_a == user_1) and (user_b == user_2)) or ((user_b == user_1) and (user_a == user_2)):\n",
    "            print(\"By user \", user_a,\":\\n\",  f'\"{resumen.text[a]}\"\\n')\n",
    "            print(\"By user \", user_b, \":\\n\", f'\"{resumen.text[b]}\"')\n",
    "            print(\"_______________________________________________________\\n\")\n",
    "            if iterations == (amount-1):\n",
    "                break\n",
    "            iterations+=1"
   ]
  },
  {
   "attachments": {},
   "cell_type": "markdown",
   "metadata": {},
   "source": [
    "Veamos tres ejemplos de pares de tweets de un par de autores similares."
   ]
  },
  {
   "cell_type": "code",
   "execution_count": 48,
   "metadata": {},
   "outputs": [
    {
     "name": "stdout",
     "output_type": "stream",
     "text": [
      "By user  Natacha55538315 :\n",
      " \"@Gonzanarko @tere_marinovic QUE TE PASA MUSICOO ! FRACASADOO ! GUEON PENCA ! UNA PLASTA ACEFALA ! QUE TE CREIII! CTM VENIR A GUEVIAR\"\n",
      "\n",
      "By user  MAJOCAPA196556 :\n",
      " \"@SarahCo74398491 @tere_marinovic @Yohana_Barria @cata_1933 @FuerzaCarab @Carabdechile NAZI\"\n",
      "_______________________________________________________\n",
      "\n",
      "By user  Natacha55538315 :\n",
      " \"@Gonzanarko @tere_marinovic QUE TE PASA MUSICOO ! FRACASADOO ! GUEON PENCA ! UNA PLASTA ACEFALA ! QUE TE CREIII! CTM VENIR A GUEVIAR\"\n",
      "\n",
      "By user  MAJOCAPA196556 :\n",
      " \"@SarahCo74398491 @facho1000 @tere_marinovic @Yohana_Barria @cata_1933 @FuerzaCarab @Carabdechile NAZI Y GAY ENCUBIERTO\n",
      "\n",
      "K FOME TU VIDA GORDA\"\n",
      "_______________________________________________________\n",
      "\n",
      "By user  MAJOCAPA196556 :\n",
      " \"@facho1000 @SarahCo74398491 @tere_marinovic @Yohana_Barria @cata_1933 @FuerzaCarab @Carabdechile TRIPLE NAZI\"\n",
      "\n",
      "By user  Natacha55538315 :\n",
      " \"@CamiloUribeP @tere_marinovic TU ERES EL TARADO BOTIJA LOVER ! DIGNO DE LASTIMA MURCIÉLAGO!!\"\n",
      "_______________________________________________________\n",
      "\n"
     ]
    }
   ],
   "source": [
    "show_tweets_from_candidates(\"Natacha55538315\", \"MAJOCAPA196556\", 3)"
   ]
  },
  {
   "attachments": {},
   "cell_type": "markdown",
   "metadata": {},
   "source": [
    "A continuación podemos examinar un cierto número de tweets para un n dado de autores similares."
   ]
  },
  {
   "cell_type": "code",
   "execution_count": 51,
   "metadata": {},
   "outputs": [
    {
     "name": "stdout",
     "output_type": "stream",
     "text": [
      "By user  aurora4310 :\n",
      " \"@CamiRT7 @AprendizCrypto @pillan197811 @fernando_atria @DajacJara @AXELKAISER @rocicantuarias @danielstingo @MEQChile Se pico\"\n",
      "\n",
      "By user  JaggerGuti :\n",
      " \"@Elinis_Benetash @fernando_atria @DajacJara @AXELKAISER @rocicantuarias @danielstingo @MEQChile @GAMBA_CL O empiezo yo? 😂\"\n",
      "_______________________________________________________\n",
      "\n",
      "By user  JaggerGuti :\n",
      " \"@Elinis_Benetash @sotan_n @fernando_atria @DajacJara @AXELKAISER @rocicantuarias @danielstingo @MEQChile Propiedad y digna... 😂 😂 😂\"\n",
      "\n",
      "By user  aurora4310 :\n",
      " \"@AprendizCrypto @pillan197811 @fernando_atria @DajacJara @AXELKAISER @rocicantuarias @danielstingo @MEQChile No tienen ningún poder\"\n",
      "_______________________________________________________\n",
      "\n",
      "By user  JaggerGuti :\n",
      " \"@Elinis_Benetash @sotan_n @fernando_atria @DajacJara @AXELKAISER @rocicantuarias @danielstingo @MEQChile Propiedad y digna... 😂 😂 😂\"\n",
      "\n",
      "By user  aurora4310 :\n",
      " \"@AprendizCrypto @pillan197811 @fernando_atria @DajacJara @AXELKAISER @rocicantuarias @danielstingo @MEQChile Ponga el artículo completo.\"\n",
      "_______________________________________________________\n",
      "\n",
      "By user  aurora4310 :\n",
      " \"@DajacJara @Elinis_Benetash @FreityT @fernando_atria @AXELKAISER @rocicantuarias @danielstingo @MEQChile No tienes ni idea\"\n",
      "\n",
      "By user  ChandlerFruna :\n",
      " \"@Patolukas1991 @rocicantuarias @danielstingo Y que entendiste tu? Viste el video completo ?\"\n",
      "_______________________________________________________\n",
      "\n",
      "By user  ChandlerFruna :\n",
      " \"@Lore1415A @rocicantuarias @danielstingo Ajjajajajajajajajajajajajaja ajajajjajajajajaja ajajajajajaja ajajajjajajaa\"\n",
      "\n",
      "By user  aurora4310 :\n",
      " \"@Elinis_Benetash @FreityT @DajacJara @fernando_atria @AXELKAISER @rocicantuarias @danielstingo @MEQChile Deja de poner post chantas de la tv\"\n",
      "_______________________________________________________\n",
      "\n",
      "By user  aurora4310 :\n",
      " \"@AprendizCrypto @pillan197811 @fernando_atria @DajacJara @AXELKAISER @rocicantuarias @danielstingo @MEQChile No tienen ningún poder\"\n",
      "\n",
      "By user  ChandlerFruna :\n",
      " \"@Maret0RISQ @Ma__koch @rocicantuarias @danielstingo Lo único que saben ver, para lo demás son un asco ajajaja\"\n",
      "_______________________________________________________\n",
      "\n"
     ]
    }
   ],
   "source": [
    "def shown_n_similar_authors_examples(n_author_pairs, n_examples_per_pair):\n",
    "    iteration = 0\n",
    "    for index, row in similar_authors.iterrows():\n",
    "        user_1 = row.user_1\n",
    "        user_2 = row.user_2\n",
    "        show_tweets_from_candidates(user_1, user_2, n_examples_per_pair) # Sacar 3 ejemplos por cada par\n",
    "        if iteration == (n_author_pairs-1):\n",
    "            break\n",
    "        iteration += 1\n",
    "shown_n_similar_authors_examples(2, 3)\n",
    "# Se mostraran 3 ejemplos para 2 pares de autores similares: "
   ]
  }
 ],
 "metadata": {
  "kernelspec": {
   "display_name": "tareas_proce",
   "language": "python",
   "name": "python3"
  },
  "language_info": {
   "codemirror_mode": {
    "name": "ipython",
    "version": 3
   },
   "file_extension": ".py",
   "mimetype": "text/x-python",
   "name": "python",
   "nbconvert_exporter": "python",
   "pygments_lexer": "ipython3",
   "version": "3.10.0"
  },
  "orig_nbformat": 4
 },
 "nbformat": 4,
 "nbformat_minor": 2
}
