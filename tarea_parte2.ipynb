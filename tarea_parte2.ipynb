{
 "cells": [
  {
   "attachments": {},
   "cell_type": "markdown",
   "metadata": {},
   "source": [
    "# II. Min hashing"
   ]
  },
  {
   "cell_type": "code",
   "execution_count": 1,
   "metadata": {},
   "outputs": [],
   "source": [
    "import pandas as pd\n",
    "import numpy as np\n",
    "import collections\n",
    "import itertools\n",
    "import random\n",
    "from tqdm import tqdm\n",
    "from math import floor, sqrt\n",
    "import ast"
   ]
  },
  {
   "attachments": {},
   "cell_type": "markdown",
   "metadata": {},
   "source": [
    "Cargar datos preprocesados"
   ]
  },
  {
   "cell_type": "code",
   "execution_count": 4,
   "metadata": {},
   "outputs": [],
   "source": [
    "resumenx = pd.read_csv('preprocesado.csv', converters={\"shingles\": ast.literal_eval})"
   ]
  },
  {
   "attachments": {},
   "cell_type": "markdown",
   "metadata": {},
   "source": [
    "Cargar vocabulario de shingles previamente computado y mostrar su largo"
   ]
  },
  {
   "cell_type": "code",
   "execution_count": 5,
   "metadata": {},
   "outputs": [
    {
     "data": {
      "text/plain": [
       "9958"
      ]
     },
     "execution_count": 5,
     "metadata": {},
     "output_type": "execute_result"
    }
   ],
   "source": [
    "with open('shingles_sample.txt','r') as f:\n",
    "   shingles_sample = ast.literal_eval(f.read())\n",
    "un = shingles_sample\n",
    "len(un)"
   ]
  },
  {
   "attachments": {},
   "cell_type": "markdown",
   "metadata": {},
   "source": [
    "Esta parte simplemente la usé para debuggear, pero no borrar"
   ]
  },
  {
   "cell_type": "code",
   "execution_count": 6,
   "metadata": {},
   "outputs": [
    {
     "data": {
      "text/html": [
       "<div>\n",
       "<style scoped>\n",
       "    .dataframe tbody tr th:only-of-type {\n",
       "        vertical-align: middle;\n",
       "    }\n",
       "\n",
       "    .dataframe tbody tr th {\n",
       "        vertical-align: top;\n",
       "    }\n",
       "\n",
       "    .dataframe thead th {\n",
       "        text-align: right;\n",
       "    }\n",
       "</style>\n",
       "<table border=\"1\" class=\"dataframe\">\n",
       "  <thead>\n",
       "    <tr style=\"text-align: right;\">\n",
       "      <th></th>\n",
       "      <th>Unnamed: 0</th>\n",
       "      <th>id</th>\n",
       "      <th>screen_name</th>\n",
       "      <th>text</th>\n",
       "      <th>clean_text</th>\n",
       "      <th>shingles</th>\n",
       "    </tr>\n",
       "  </thead>\n",
       "  <tbody>\n",
       "    <tr>\n",
       "      <th>0</th>\n",
       "      <td>7</td>\n",
       "      <td>1512188055788027904</td>\n",
       "      <td>Rob92029357</td>\n",
       "      <td>@sokio @berfontaine No tienes como revatir alg...</td>\n",
       "      <td>@sokio @berfontaine revatir realidad expuesta ...</td>\n",
       "      <td>(sabe , ontai,  pers, ad ex, kio @, ona s, rev...</td>\n",
       "    </tr>\n",
       "    <tr>\n",
       "      <th>1</th>\n",
       "      <td>20</td>\n",
       "      <td>1512193611575799812</td>\n",
       "      <td>AlejoLatigo</td>\n",
       "      <td>@Hugo_Gutierrez_ Yaaaaaa yyyyyyyyy????????????...</td>\n",
       "      <td>@Hugo_Gutierrez_ Yaaaaaa yyyyyyyyy????????????...</td>\n",
       "      <td>(? #RE, ?? #R,  @Ser, ??? #, yy???, aaa y, yyy...</td>\n",
       "    </tr>\n",
       "    <tr>\n",
       "      <th>2</th>\n",
       "      <td>29</td>\n",
       "      <td>1512198930657955842</td>\n",
       "      <td>GordoUC_</td>\n",
       "      <td>@Molines01 @tere_marinovic Te están mostrando ...</td>\n",
       "      <td>@Molines01 @tere_marinovic estn mostrando rech...</td>\n",
       "      <td>(echa., nes01, den e, o rec, mostr, oline, ari...</td>\n",
       "    </tr>\n",
       "    <tr>\n",
       "      <th>3</th>\n",
       "      <td>30</td>\n",
       "      <td>1512199583794835467</td>\n",
       "      <td>Orellana21Marce</td>\n",
       "      <td>@mdaza_abogado @Jess99041498 Es que la derecha...</td>\n",
       "      <td>@mdaza_abogado @Jess99041498 derecha quiere em...</td>\n",
       "      <td>(o @Je,  @Jes,  impo,  quie, 8 der, n ind, @md...</td>\n",
       "    </tr>\n",
       "    <tr>\n",
       "      <th>4</th>\n",
       "      <td>50</td>\n",
       "      <td>1512212224613359617</td>\n",
       "      <td>PATRIOTCHILENO</td>\n",
       "      <td>@tere_marinovic @Sebasti45781359 Orsoni cero a...</td>\n",
       "      <td>@tere_marinovic @Sebasti45781359 Orsoni cero a...</td>\n",
       "      <td>(45781, as to, @Mait, 81359, ere_m, Maite, ovi...</td>\n",
       "    </tr>\n",
       "    <tr>\n",
       "      <th>...</th>\n",
       "      <td>...</td>\n",
       "      <td>...</td>\n",
       "      <td>...</td>\n",
       "      <td>...</td>\n",
       "      <td>...</td>\n",
       "      <td>...</td>\n",
       "    </tr>\n",
       "    <tr>\n",
       "      <th>203721</th>\n",
       "      <td>1266590</td>\n",
       "      <td>1526783486702411776</td>\n",
       "      <td>MaraTer03135126</td>\n",
       "      <td>@BSepulvedaHales aparacistes loca populista #R...</td>\n",
       "      <td>@BSepulvedaHales aparacistes loca populista #R...</td>\n",
       "      <td>(hazoE, s apa, ista , co/JL, ho ht, Mamar, o h...</td>\n",
       "    </tr>\n",
       "    <tr>\n",
       "      <th>203722</th>\n",
       "      <td>1266611</td>\n",
       "      <td>1527138136060334080</td>\n",
       "      <td>cuncunga1</td>\n",
       "      <td>@mcubillossigall Aqui no hubo bandera ni canci...</td>\n",
       "      <td>@mcubillossigall Aqui bandera cancin nacional....</td>\n",
       "      <td>(queda, cubil, l. qu, l Aqu,  Aqui,  http, lad...</td>\n",
       "    </tr>\n",
       "    <tr>\n",
       "      <th>203723</th>\n",
       "      <td>1266615</td>\n",
       "      <td>1527090757202456576</td>\n",
       "      <td>Erwinpohlagurto</td>\n",
       "      <td>@Hugo_Gutierrez_ Últimamente sospecho de todos...</td>\n",
       "      <td>@Hugo_Gutierrez_ ltimamente sospecho todos, am...</td>\n",
       "      <td>(ues e,  http, ltima, amigu, UKXHt, os ht,  se...</td>\n",
       "    </tr>\n",
       "    <tr>\n",
       "      <th>203724</th>\n",
       "      <td>1266621</td>\n",
       "      <td>1525908559673712640</td>\n",
       "      <td>RichardDCorobo</td>\n",
       "      <td>@BottoConstituy1 El poder económico nunca va a...</td>\n",
       "      <td>@BottoConstituy1 poder econmico nunca va quere...</td>\n",
       "      <td>(nca v, co nu, y1 po,  http, LkfWL, uerer, ca ...</td>\n",
       "    </tr>\n",
       "    <tr>\n",
       "      <th>203725</th>\n",
       "      <td>1266622</td>\n",
       "      <td>1525981922115358720</td>\n",
       "      <td>AgainFlano</td>\n",
       "      <td>De @danielstingo no me lo esperaba ....\\nEstim...</td>\n",
       "      <td>@danielstingo esperaba .... Estimado, porqu vo...</td>\n",
       "      <td>(ot na, ... E, porqu, perab, urale, ielst, ......</td>\n",
       "    </tr>\n",
       "  </tbody>\n",
       "</table>\n",
       "<p>203726 rows × 6 columns</p>\n",
       "</div>"
      ],
      "text/plain": [
       "        Unnamed: 0                   id      screen_name  \\\n",
       "0                7  1512188055788027904      Rob92029357   \n",
       "1               20  1512193611575799812      AlejoLatigo   \n",
       "2               29  1512198930657955842         GordoUC_   \n",
       "3               30  1512199583794835467  Orellana21Marce   \n",
       "4               50  1512212224613359617   PATRIOTCHILENO   \n",
       "...            ...                  ...              ...   \n",
       "203721     1266590  1526783486702411776  MaraTer03135126   \n",
       "203722     1266611  1527138136060334080        cuncunga1   \n",
       "203723     1266615  1527090757202456576  Erwinpohlagurto   \n",
       "203724     1266621  1525908559673712640   RichardDCorobo   \n",
       "203725     1266622  1525981922115358720       AgainFlano   \n",
       "\n",
       "                                                     text  \\\n",
       "0       @sokio @berfontaine No tienes como revatir alg...   \n",
       "1       @Hugo_Gutierrez_ Yaaaaaa yyyyyyyyy????????????...   \n",
       "2       @Molines01 @tere_marinovic Te están mostrando ...   \n",
       "3       @mdaza_abogado @Jess99041498 Es que la derecha...   \n",
       "4       @tere_marinovic @Sebasti45781359 Orsoni cero a...   \n",
       "...                                                   ...   \n",
       "203721  @BSepulvedaHales aparacistes loca populista #R...   \n",
       "203722  @mcubillossigall Aqui no hubo bandera ni canci...   \n",
       "203723  @Hugo_Gutierrez_ Últimamente sospecho de todos...   \n",
       "203724  @BottoConstituy1 El poder económico nunca va a...   \n",
       "203725  De @danielstingo no me lo esperaba ....\\nEstim...   \n",
       "\n",
       "                                               clean_text  \\\n",
       "0       @sokio @berfontaine revatir realidad expuesta ...   \n",
       "1       @Hugo_Gutierrez_ Yaaaaaa yyyyyyyyy????????????...   \n",
       "2       @Molines01 @tere_marinovic estn mostrando rech...   \n",
       "3       @mdaza_abogado @Jess99041498 derecha quiere em...   \n",
       "4       @tere_marinovic @Sebasti45781359 Orsoni cero a...   \n",
       "...                                                   ...   \n",
       "203721  @BSepulvedaHales aparacistes loca populista #R...   \n",
       "203722  @mcubillossigall Aqui bandera cancin nacional....   \n",
       "203723  @Hugo_Gutierrez_ ltimamente sospecho todos, am...   \n",
       "203724  @BottoConstituy1 poder econmico nunca va quere...   \n",
       "203725  @danielstingo esperaba .... Estimado, porqu vo...   \n",
       "\n",
       "                                                 shingles  \n",
       "0       (sabe , ontai,  pers, ad ex, kio @, ona s, rev...  \n",
       "1       (? #RE, ?? #R,  @Ser, ??? #, yy???, aaa y, yyy...  \n",
       "2       (echa., nes01, den e, o rec, mostr, oline, ari...  \n",
       "3       (o @Je,  @Jes,  impo,  quie, 8 der, n ind, @md...  \n",
       "4       (45781, as to, @Mait, 81359, ere_m, Maite, ovi...  \n",
       "...                                                   ...  \n",
       "203721  (hazoE, s apa, ista , co/JL, ho ht, Mamar, o h...  \n",
       "203722  (queda, cubil, l. qu, l Aqu,  Aqui,  http, lad...  \n",
       "203723  (ues e,  http, ltima, amigu, UKXHt, os ht,  se...  \n",
       "203724  (nca v, co nu, y1 po,  http, LkfWL, uerer, ca ...  \n",
       "203725  (ot na, ... E, porqu, perab, urale, ielst, ......  \n",
       "\n",
       "[203726 rows x 6 columns]"
      ]
     },
     "execution_count": 6,
     "metadata": {},
     "output_type": "execute_result"
    }
   ],
   "source": [
    "resumen = resumenx\n",
    "resumen"
   ]
  },
  {
   "attachments": {},
   "cell_type": "markdown",
   "metadata": {},
   "source": [
    "## Crear funciones de hash"
   ]
  },
  {
   "attachments": {},
   "cell_type": "markdown",
   "metadata": {},
   "source": [
    "Primero hallamos un número primo más grande que el universo de shingles"
   ]
  },
  {
   "cell_type": "code",
   "execution_count": 7,
   "metadata": {},
   "outputs": [
    {
     "name": "stdout",
     "output_type": "stream",
     "text": [
      "Primo encontrado:  9967\n"
     ]
    }
   ],
   "source": [
    "def is_prime(n):\n",
    "  for i in range(2,int(sqrt(n))+1):\n",
    "    if (n%i) == 0:\n",
    "      return False\n",
    "  return True\n",
    "\n",
    "numb = len(un)+1\n",
    "while True:\n",
    "    result = is_prime(numb)\n",
    "    if result:\n",
    "       break\n",
    "    numb+=1\n",
    "print(\"Primo encontrado: \", numb)"
   ]
  },
  {
   "attachments": {},
   "cell_type": "markdown",
   "metadata": {},
   "source": [
    "Creamos 20 funciones de hash"
   ]
  },
  {
   "cell_type": "code",
   "execution_count": 8,
   "metadata": {},
   "outputs": [],
   "source": [
    "def crear_hash(a, b, p, n):\n",
    "    def f(x):\n",
    "        return ((a * x + b) % p) % n\n",
    "    return f"
   ]
  },
  {
   "cell_type": "code",
   "execution_count": 9,
   "metadata": {},
   "outputs": [],
   "source": [
    "h = []\n",
    "n = len(un)\n",
    "p = numb\n",
    "num_hash = 20\n",
    "for i in range(num_hash):\n",
    "    a = random.randint(1,p-1)\n",
    "    b = random.randint(1,p-1)\n",
    "    h.append(crear_hash(a,b,p,n))"
   ]
  },
  {
   "attachments": {},
   "cell_type": "markdown",
   "metadata": {},
   "source": [
    "## Firma de Hash"
   ]
  },
  {
   "attachments": {},
   "cell_type": "markdown",
   "metadata": {},
   "source": [
    "Calcularemos la firma de hash dividiendo el resumen en 100 chunks."
   ]
  },
  {
   "cell_type": "code",
   "execution_count": 10,
   "metadata": {},
   "outputs": [],
   "source": [
    "sorted_union = sorted(un)\n",
    "def chunk_signature(chunk):\n",
    "    n = len(chunk)\n",
    "    FH = np.full((num_hash, n), n+100)\n",
    "    ### Iterar por elementos del vocabulario\n",
    "    for e in tqdm(range(0,len(sorted_union))): # |union_shingles| = 9967\n",
    "       \n",
    "        ### iteramos cada columna, correspondiente a la cantidad de textos (tweets en nuestro caso)  \n",
    "        for i in range(0,n): # |cols| = 208.139\n",
    "\n",
    "            ### si el elemento e no está en el texto i, no hacemos nada\n",
    "            if sorted_union[e] not in chunk.shingles[i]:\n",
    "                pass\n",
    "            \n",
    "            ### si el elemento si está, computamos los valores de h(e) y \n",
    "            else:\n",
    "                for j in range(0,num_hash): # j es función de hash |hash| = 20, filas de la matriz\n",
    "                    FH[j][i] = min(FH[j][i],h[j](e))\n",
    "    return FH"
   ]
  },
  {
   "attachments": {},
   "cell_type": "markdown",
   "metadata": {},
   "source": [
    "Calcular la firma de hash de cada chunk e ir escribiendo a disco"
   ]
  },
  {
   "cell_type": "code",
   "execution_count": 11,
   "metadata": {},
   "outputs": [],
   "source": [
    "# n_of_chunks = 10\n",
    "# chunk_size = floor(len(resumen)/n_of_chunks)\n",
    "# chunk = resumen.iloc[:chunk_size,:]\n",
    "# FH = chunk_signature(chunk)\n",
    "# np.savetxt(\"output/file0.csv\", FH, delimiter=\",\")\n",
    "# del FH\n",
    "# for i in tqdm(range(1, n_of_chunks)):\n",
    "#     if i != (n_of_chunks-1):\n",
    "#         chunk = resumen.iloc[chunk_size*i:chunk_size*(i+1),:]\n",
    "#     else:\n",
    "#         chunk = resumen.iloc[chunk_size*i:,:]\n",
    "#     chunk = chunk.reset_index()\n",
    "#     FH = chunk_signature(chunk)\n",
    "#     np.savetxt(f\"output/file{i}.csv\", FH, delimiter=\",\")\n",
    "#     del FH"
   ]
  }
 ],
 "metadata": {
  "kernelspec": {
   "display_name": "tareas_proce",
   "language": "python",
   "name": "python3"
  },
  "language_info": {
   "codemirror_mode": {
    "name": "ipython",
    "version": 3
   },
   "file_extension": ".py",
   "mimetype": "text/x-python",
   "name": "python",
   "nbconvert_exporter": "python",
   "pygments_lexer": "ipython3",
   "version": "3.10.0"
  },
  "orig_nbformat": 4
 },
 "nbformat": 4,
 "nbformat_minor": 2
}
